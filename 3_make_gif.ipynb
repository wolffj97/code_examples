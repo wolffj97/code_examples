{
 "cells": [
  {
   "cell_type": "code",
   "execution_count": 7,
   "id": "2c20f388",
   "metadata": {},
   "outputs": [
    {
     "name": "stdout",
     "output_type": "stream",
     "text": [
      "['png_files/2020-40.png', 'png_files/2020-41.png', 'png_files/2020-42.png', 'png_files/2020-43.png', 'png_files/2020-44.png', 'png_files/2020-45.png', 'png_files/2020-46.png', 'png_files/2020-47.png', 'png_files/2020-48.png', 'png_files/2020-49.png', 'png_files/2020-50.png', 'png_files/2020-51.png', 'png_files/2020-52.png', 'png_files/2020-53.png', 'png_files/2021-01.png', 'png_files/2021-02.png', 'png_files/2021-03.png', 'png_files/2021-04.png', 'png_files/2021-05.png', 'png_files/2021-06.png', 'png_files/2021-07.png', 'png_files/2021-08.png', 'png_files/2021-09.png', 'png_files/2021-10.png', 'png_files/2021-11.png', 'png_files/2021-12.png', 'png_files/2021-13.png', 'png_files/2021-14.png', 'png_files/2021-15.png', 'png_files/2021-16.png', 'png_files/2021-17.png', 'png_files/2021-18.png', 'png_files/2021-19.png', 'png_files/2021-20.png', 'png_files/2021-21.png', 'png_files/2021-22.png', 'png_files/2021-23.png', 'png_files/2021-24.png', 'png_files/2021-25.png', 'png_files/2021-26.png', 'png_files/2021-27.png', 'png_files/2021-28.png', 'png_files/2021-29.png', 'png_files/2021-30.png', 'png_files/2021-31.png', 'png_files/2021-32.png', 'png_files/2021-33.png', 'png_files/2021-34.png', 'png_files/2021-35.png', 'png_files/2021-36.png', 'png_files/2021-37.png', 'png_files/2021-38.png', 'png_files/2021-39.png', 'png_files/2021-40.png', 'png_files/2021-41.png', 'png_files/2021-42.png', 'png_files/2021-43.png', 'png_files/2021-44.png', 'png_files/2021-45.png', 'png_files/2021-46.png', 'png_files/2021-47.png', 'png_files/2021-48.png', 'png_files/2021-49.png', 'png_files/2021-50.png', 'png_files/2021-51.png', 'png_files/2021-52.png', 'png_files/2022-01.png', 'png_files/2022-02.png', 'png_files/2022-03.png', 'png_files/2022-04.png', 'png_files/2022-05.png', 'png_files/2022-06.png', 'png_files/2022-07.png', 'png_files/2022-08.png', 'png_files/2022-09.png', 'png_files/2022-10.png']\n"
     ]
    }
   ],
   "source": [
    "from PIL import Image\n",
    "import glob\n",
    " \n",
    "# Create the frames\n",
    "frames = []\n",
    "imgs = sorted(glob.glob(\"png_files/*.png\"))\n",
    "for i in imgs:\n",
    "    new_frame = Image.open(i)\n",
    "    frames.append(new_frame)\n",
    " \n",
    "# Save into a GIF file that loops forever\n",
    "frames[0].save('web-setup/front-end/public/map1.gif', format='GIF',\n",
    "               append_images=frames[1:],\n",
    "               save_all=True,\n",
    "               duration=500, loop=0)"
   ]
  }
 ],
 "metadata": {
  "kernelspec": {
   "display_name": "Python 3 (ipykernel)",
   "language": "python",
   "name": "python3"
  },
  "language_info": {
   "codemirror_mode": {
    "name": "ipython",
    "version": 3
   },
   "file_extension": ".py",
   "mimetype": "text/x-python",
   "name": "python",
   "nbconvert_exporter": "python",
   "pygments_lexer": "ipython3",
   "version": "3.9.1"
  }
 },
 "nbformat": 4,
 "nbformat_minor": 5
}
